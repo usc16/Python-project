{
 "cells": [
  {
   "cell_type": "markdown",
   "id": "712e7312",
   "metadata": {},
   "source": [
    "# Function to take adminstrator input for inventory management"
   ]
  },
  {
   "cell_type": "code",
   "execution_count": 1,
   "id": "a2fe2e4b",
   "metadata": {},
   "outputs": [],
   "source": [
    "def func():\n",
    "    global n\n",
    "    n=int(input(\"Enter no. of different items you want: \"))\n",
    "    mydict={}\n",
    "    for i in range(n):\n",
    "        x=input(\"enter item name: \")\n",
    "        y=int(input(\"enter item quantity: \"))\n",
    "        z=float(input(\"enter price: \"))\n",
    "        mydict.update({x:[y,z]})\n",
    "    return mydict     "
   ]
  },
  {
   "cell_type": "code",
   "execution_count": 2,
   "id": "e6c13fe2",
   "metadata": {},
   "outputs": [
    {
     "name": "stdout",
     "output_type": "stream",
     "text": [
      "Enter no. of different items you want: 4\n",
      "enter item name: rice\n",
      "enter item quantity: 9\n",
      "enter price: 30\n",
      "enter item name: tur dal\n",
      "enter item quantity: 5\n",
      "enter price: 67\n",
      "enter item name: moong dal\n",
      "enter item quantity: 9\n",
      "enter price: 89\n",
      "enter item name: chana dal\n",
      "enter item quantity: 8\n",
      "enter price: 56\n"
     ]
    }
   ],
   "source": [
    "mydict=func()"
   ]
  },
  {
   "cell_type": "code",
   "execution_count": 3,
   "id": "f05f335c",
   "metadata": {},
   "outputs": [
    {
     "name": "stdout",
     "output_type": "stream",
     "text": [
      "{'rice': [9, 30.0], 'tur dal': [5, 67.0], 'moong dal': [9, 89.0], 'chana dal': [8, 56.0]}\n"
     ]
    }
   ],
   "source": [
    "print(mydict)"
   ]
  },
  {
   "cell_type": "markdown",
   "id": "95596d47",
   "metadata": {},
   "source": [
    "# Below code will take user input for for purchases and simultaneously update inventory stock"
   ]
  },
  {
   "cell_type": "code",
   "execution_count": 4,
   "id": "9d420597",
   "metadata": {},
   "outputs": [
    {
     "name": "stdout",
     "output_type": "stream",
     "text": [
      "Enter 0 to exit  and S.no correspondings to the items for buying products\n",
      "---------------------------------------------------------------------------------------------------- \n",
      "\n",
      "      S.no       ITEM   QUANTITY      PRICE\n",
      "      1.00       rice       9.00      30.00\n",
      "      2.00    tur dal       5.00      67.00\n",
      "      3.00  moong dal       9.00      89.00\n",
      "      4.00  chana dal       8.00      56.00\n",
      "---------------------------------------------------------------------------------------------------- \n",
      "\n",
      "Enter your choice: 2\n",
      "---------------------------------------------------------------------------------------------------- \n",
      "\n",
      "enter no. of units to purchase 3\n",
      "----------------------------------------------------------------------------------------------------\n",
      "      S.no       ITEM   QUANTITY      PRICE\n",
      "      1.00       rice       9.00      30.00\n",
      "      2.00    tur dal       2.00      67.00\n",
      "      3.00  moong dal       9.00      89.00\n",
      "      4.00  chana dal       8.00      56.00\n",
      "---------------------------------------------------------------------------------------------------- \n",
      "\n",
      "Enter your choice: 3\n",
      "---------------------------------------------------------------------------------------------------- \n",
      "\n",
      "enter no. of units to purchase 4\n",
      "----------------------------------------------------------------------------------------------------\n",
      "      S.no       ITEM   QUANTITY      PRICE\n",
      "      1.00       rice       9.00      30.00\n",
      "      2.00    tur dal       2.00      67.00\n",
      "      3.00  moong dal       5.00      89.00\n",
      "      4.00  chana dal       8.00      56.00\n",
      "---------------------------------------------------------------------------------------------------- \n",
      "\n",
      "Enter your choice: 2\n",
      "---------------------------------------------------------------------------------------------------- \n",
      "\n",
      "enter no. of units to purchase 2\n",
      "----------------------------------------------------------------------------------------------------\n",
      "      S.no       ITEM   QUANTITY      PRICE\n",
      "      1.00       rice       9.00      30.00\n",
      "      2.00  moong dal       5.00      89.00\n",
      "      3.00  chana dal       8.00      56.00\n",
      "---------------------------------------------------------------------------------------------------- \n",
      "\n",
      "Enter your choice: 0\n",
      "---------------------------------------------------------------------------------------------------- \n",
      "\n",
      "{'tur dal': [5, 67.0], 'moong dal': [4, 89.0]}\n"
     ]
    }
   ],
   "source": [
    "spam=True\n",
    "mydict1={}\n",
    "print(f\"Enter 0 to exit  and S.no correspondings to the items for buying products\")\n",
    "print(\"-\"*100,\"\\n\")    \n",
    "while spam:\n",
    "    print(\"%10s %10s %10s %10s\"%(\"S.no\",\"ITEM\",\"QUANTITY\",\"PRICE\"))\n",
    "    for i in range(1,len(mydict)+1):\n",
    "        print(\"%10.2f %10s %10.2f %10.2f\"%(i,list(mydict.items())[i-1][0],list(mydict.items())[i-1][1][0],list(mydict.items())[i-1][1][1]))\n",
    "    print(\"-\"*100,\"\\n\")\n",
    "    try:\n",
    "        x=int(input(f\"Enter your choice: \"))\n",
    "        print(\"-\"*100,\"\\n\")  \n",
    "        if x ==0:\n",
    "            spam=False\n",
    "        elif x in range(1,len(mydict)+1):\n",
    "            spamy=True\n",
    "            while spamy:\n",
    "                y=int(input(\"enter no. of units to purchase \"))\n",
    "                print(\"-\"*100)\n",
    "                if list(mydict.items())[x-1][1][0]>=y:\n",
    "                    if list(mydict.items())[x-1][0] not in mydict1: \n",
    "                        mydict1.update({list(mydict.items())[x-1][0]:[y,list(mydict.items())[x-1][1][1]]})\n",
    "                        mydict[list(mydict.items())[x-1][0]][0]-=y\n",
    "                        if list(mydict.items())[x-1][1][0]==0:\n",
    "                            del mydict[list(mydict.items())[x-1][0]]\n",
    "                        spamy=False\n",
    "\n",
    "                    else:\n",
    "                        mydict1[list(mydict.items())[x-1][0]][0]+=y\n",
    "                        mydict[list(mydict.items())[x-1][0]][0]-=y\n",
    "                        if list(mydict.items())[x-1][1][0]==0:\n",
    "                            del mydict[list(mydict.items())[x-1][0]]\n",
    "                        spamy=False\n",
    "                else:\n",
    "                    print(f\"for this item only {mydict[list(mydict.items())[x-1][0]][0]} quantity is left again try to enter it\")\n",
    "        else:\n",
    "            print(\"Please enter a valid selection\")\n",
    "            print(\"-\"*100)\n",
    "    except Exception as e:\n",
    "        print(e)\n",
    "        print(\"-\"*100)\n",
    "\n",
    "                \n",
    "                \n",
    "print(mydict1)                \n"
   ]
  },
  {
   "cell_type": "markdown",
   "id": "bf96d63f",
   "metadata": {},
   "source": [
    "# Below code is for storing customer details "
   ]
  },
  {
   "cell_type": "code",
   "execution_count": 5,
   "id": "1674be3e",
   "metadata": {},
   "outputs": [
    {
     "name": "stdout",
     "output_type": "stream",
     "text": [
      "Enter your name: udit\n",
      "Enter your address: 161 d.k. cottages\n",
      "Enter distance from shop: 12\n",
      "Delivery charges of ₹2 will be levied per KM for distance greater then 10 KM\n"
     ]
    }
   ],
   "source": [
    "u=input(\"Enter your name: \")\n",
    "v=input(\"Enter your address: \")\n",
    "w=float(input(\"Enter distance from shop: \"))\n",
    "print(\"Delivery charges of ₹2 will be levied per KM for distance greater then 10 KM\")"
   ]
  },
  {
   "cell_type": "markdown",
   "id": "859f744f",
   "metadata": {},
   "source": [
    "# Delivery charges of ₹2 will be levied per KM for distance greater then 10 KM"
   ]
  },
  {
   "cell_type": "code",
   "execution_count": null,
   "id": "fcf22a2b",
   "metadata": {},
   "outputs": [],
   "source": []
  },
  {
   "cell_type": "markdown",
   "id": "968549c5",
   "metadata": {},
   "source": [
    "# Below code will generate final bill along with customers details "
   ]
  },
  {
   "cell_type": "code",
   "execution_count": 7,
   "id": "313368e4",
   "metadata": {},
   "outputs": [
    {
     "name": "stdout",
     "output_type": "stream",
     "text": [
      "      S.no       ITEM   QUANTITY      PRICE\n",
      "      1.00    tur dal       5.00     335.00\n",
      "      2.00  moong dal       4.00     356.00\n",
      "---------------------------------------------------------------------------------------------------- \n",
      "\n",
      "Total bill is 695.0\n",
      "----------------------------------------------------------------------------------------------------\n",
      "Delivery details are as follows: Customer name udit\n",
      "Customer address 161 d.k. cottages\n",
      "Delivery location distance from shop 12.0\n"
     ]
    }
   ],
   "source": [
    "l1=[]\n",
    "print(\"%10s %10s %10s %10s\"%(\"S.no\",\"ITEM\",\"QUANTITY\",\"PRICE\"))\n",
    "for i in range(1,len(mydict1)+1):\n",
    "    l1.append(list(mydict1.items())[i-1][1][1]*list(mydict1.items())[i-1][1][0])\n",
    "    print(\"%10.2f %10s %10.2f %10.2f\"%(i,list(mydict1.items())[i-1][0],list(mydict1.items())[i-1][1][0],l1[i-1]))\n",
    "print(\"-\"*100,\"\\n\")            \n",
    "if w<=10:\n",
    "    print(f\"Total bill is {sum(l1)}\")\n",
    "else:\n",
    "    print(f\"Total bill is {sum(l1)+(w-10)*2}\")\n",
    "print(\"-\"*100)\n",
    "print(\"Delivery details are as follows: \",end='')\n",
    "print(f\"Customer name {u}\")\n",
    "print(f\"Customer address {v}\")\n",
    "print(f\"Delivery location distance from shop {w}\")"
   ]
  },
  {
   "cell_type": "code",
   "execution_count": null,
   "id": "619fa8d8",
   "metadata": {},
   "outputs": [],
   "source": []
  },
  {
   "cell_type": "code",
   "execution_count": null,
   "id": "262abf48",
   "metadata": {},
   "outputs": [],
   "source": []
  },
  {
   "cell_type": "code",
   "execution_count": null,
   "id": "da339e5c",
   "metadata": {},
   "outputs": [],
   "source": []
  }
 ],
 "metadata": {
  "kernelspec": {
   "display_name": "Python 3 (ipykernel)",
   "language": "python",
   "name": "python3"
  },
  "language_info": {
   "codemirror_mode": {
    "name": "ipython",
    "version": 3
   },
   "file_extension": ".py",
   "mimetype": "text/x-python",
   "name": "python",
   "nbconvert_exporter": "python",
   "pygments_lexer": "ipython3",
   "version": "3.9.12"
  }
 },
 "nbformat": 4,
 "nbformat_minor": 5
}
