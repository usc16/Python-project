{
 "cells": [
  {
   "cell_type": "code",
   "execution_count": 54,
   "id": "4bf8764a",
   "metadata": {},
   "outputs": [],
   "source": [
    "def buildInventory():\n",
    "    global n \n",
    "    n=int(input(\"Enter no. of items to be stored in inventory: \"))\n",
    "    mydict={}\n",
    "    for i in range(n):\n",
    "        x=input(\"Enter item: \")\n",
    "        y=int(input(\"Enter quantity: \"))\n",
    "        z=float(input(\"Enter price: \"))\n",
    "        mydict.update({x:[y,z]})\n",
    "    return mydict   "
   ]
  },
  {
   "cell_type": "code",
   "execution_count": 55,
   "id": "b25741c6",
   "metadata": {},
   "outputs": [
    {
     "name": "stdout",
     "output_type": "stream",
     "text": [
      "Enter no. of items to be stored in inventory: 2\n",
      "Enter item: rice\n",
      "Enter quantity: 12\n",
      "Enter price: 23\n",
      "Enter item: tur dal\n",
      "Enter quantity: 14\n",
      "Enter price: 89\n"
     ]
    }
   ],
   "source": [
    "mydict=buildInventory()"
   ]
  },
  {
   "cell_type": "code",
   "execution_count": 56,
   "id": "ec5807e9",
   "metadata": {},
   "outputs": [
    {
     "name": "stdout",
     "output_type": "stream",
     "text": [
      "{'rice': [12, 23.0], 'tur dal': [14, 89.0]}\n"
     ]
    }
   ],
   "source": [
    "print(mydict)"
   ]
  },
  {
   "cell_type": "code",
   "execution_count": 63,
   "id": "c64cecba",
   "metadata": {},
   "outputs": [
    {
     "name": "stdout",
     "output_type": "stream",
     "text": [
      "Delivery cahrges of ₹2 per km will be levied if distance from the shop is greater then 5 K.M.\n",
      "----------------------------------------------------------------------------------------------------\n",
      "Enter S.no corresponding to the item to purchase it and 0 to exit\n",
      "----------------------------------------------------------------------------------------------------\n",
      "      S.no                 ITEM             QUANTITY                PRICE\n",
      "      1.00                 rice                 6.00                23.00\n",
      "      2.00              tur dal                 3.00                89.00\n",
      "****************************************************************************************************\n",
      "Enter what you want to purchase: 1\n",
      "****************************************************************************************************\n",
      "Enter no. of units you want to purchase: 2\n",
      "****************************************************************************************************\n",
      "      S.no                 ITEM             QUANTITY                PRICE\n",
      "      1.00                 rice                 4.00                23.00\n",
      "      2.00              tur dal                 3.00                89.00\n",
      "****************************************************************************************************\n",
      "Enter what you want to purchase: 0\n",
      "&&&&&&&&&&&&&&&&&&&&&&&&&&&&&&&&&&&&&&&&&&&&&&&&&&&&&&&&&&&&&&&&&&&&&&&&&&&&&&&&&&&&&&&&&&&&&&&&&&&&\n",
      "Enter your name: udit\n",
      "&&&&&&&&&&&&&&&&&&&&&&&&&&&&&&&&&&&&&&&&&&&&&&&&&&&&&&&&&&&&&&&&&&&&&&&&&&&&&&&&&&&&&&&&&&&&&&&&&&&&\n",
      "Enter your address: dk\n",
      "&&&&&&&&&&&&&&&&&&&&&&&&&&&&&&&&&&&&&&&&&&&&&&&&&&&&&&&&&&&&&&&&&&&&&&&&&&&&&&&&&&&&&&&&&&&&&&&&&&&&\n",
      "Enter distance from shop: 12\n"
     ]
    }
   ],
   "source": [
    "mydict1={}\n",
    "print(\"Delivery cahrges of ₹2 per km will be levied if distance from the shop is greater then 5 K.M.\")\n",
    "print(\"-\"*100)\n",
    "print(\"Enter S.no corresponding to the item to purchase it and 0 to exit\")\n",
    "print(\"-\"*100)\n",
    "spam=True\n",
    "while spam:\n",
    "    try:\n",
    "        print(\"%10s %20s %20s %20s\"%(\"S.no\",\"ITEM\",\"QUANTITY\",\"PRICE\"))\n",
    "        for i in range(len(mydict)):\n",
    "            print(\"%10.2f %20s %20.2f %20.2f\"%(i+1,list(mydict.items())[i][0],list(mydict.items())[i][1][0],list(mydict.items())[i][1][1]))\n",
    "        print(\"*\"*100)\n",
    "        x=int(input(\"Enter what you want to purchase: \"))\n",
    "        if x in range(len(mydict)+1):\n",
    "            if x==0:\n",
    "                spam=False\n",
    "            else:\n",
    "                print(\"*\"*100)\n",
    "                y=int(input(\"Enter no. of units you want to purchase: \"))\n",
    "                print(\"*\"*100)\n",
    "                if list(mydict.items())[x-1][1][0]>=y:\n",
    "                    if list(mydict.items())[x-1][0] not in mydict1:\n",
    "                        mydict1[list(mydict.items())[x-1][0]]=[y,list(mydict.items())[x-1][1][1]]\n",
    "                        if list(mydict.items())[x-1][1][0]-y==0:\n",
    "                            del mydict[list(mydict.items())[x-1][0]]\n",
    "                        else:\n",
    "                            mydict[list(mydict.items())[x-1][0]][0]-=y\n",
    "              \n",
    "                    else:\n",
    "                        mydict1[list(mydict.items())[x-1][0]][0]+=y\n",
    "                        \n",
    "                        if list(mydict.items())[x-1][1][0]-y==0:\n",
    "                            del mydict[list(mydict.items())[x-1][0]]\n",
    "                        else:\n",
    "                            mydict[list(mydict.items())[x-1][0]][0]-=y \n",
    "              \n",
    "                else:\n",
    "                    print(f\"For this item only {list(mydict.items())[x-1][1][0]} quantity is available \")\n",
    "        else:\n",
    "            print(\"#\"*100)\n",
    "            print(\"Please Enter a valid selection \")\n",
    "              \n",
    "    except Exception as e:\n",
    "        print(\"#\"*100)\n",
    "        print(e)\n",
    "        print(\"#\"*100)\n",
    "print(\"&\"*100)  \n",
    "u=input(\"Enter your name: \")\n",
    "print(\"&\"*100) \n",
    "v=input(\"Enter your address: \")\n",
    "print(\"&\"*100) \n",
    "w=float(input(\"Enter distance from shop: \"))"
   ]
  },
  {
   "cell_type": "code",
   "execution_count": 64,
   "id": "ed549dc8",
   "metadata": {},
   "outputs": [
    {
     "name": "stdout",
     "output_type": "stream",
     "text": [
      "{'rice': [2, 23.0, 46.0]}\n"
     ]
    }
   ],
   "source": [
    "mydict2={}\n",
    "for key,value in mydict1.items():\n",
    "    mydict2[key]=[value[0],value[1],value[0]*value[1]]\n",
    "print(mydict2)"
   ]
  },
  {
   "cell_type": "code",
   "execution_count": 65,
   "id": "a535eaad",
   "metadata": {},
   "outputs": [
    {
     "name": "stdout",
     "output_type": "stream",
     "text": [
      "      S.no                 ITEM             QUANTITY                PRICE         TOTAL PRICE\n",
      "      1.00                 rice                 2.00                23.00                46.00\n",
      "----------------------------------------------------------------------------------------------------\n",
      "Customer Name udit\n",
      "----------------------------------------------------------------------------------------------------\n",
      "Customer address dk\n",
      "----------------------------------------------------------------------------------------------------\n",
      "Total amount ₹50.0\n"
     ]
    }
   ],
   "source": [
    "tot_bill=0\n",
    "print(\"%10s %20s %20s %20s%20s\"%(\"S.no\",\"ITEM\",\"QUANTITY\",\"PRICE\",\"TOTAL PRICE\"))\n",
    "for i in range(1,len(mydict2)+1):\n",
    "    print(\"%10.2f %20s %20.2f %20.2f %20.2f\"%(i,list(mydict2.items())[i-1][0],list(mydict2.items())[i-1][1][0],list(mydict2.items())[i-1][1][1],list(mydict2.items())[i-1][1][2]))\n",
    "    tot_bill+=list(mydict2.items())[i-1][1][2]\n",
    "if w>10:\n",
    "    tot_bill+=((w-10)*2)\n",
    "print(\"-\"*100)\n",
    "print(f\"Customer Name {u}\")\n",
    "print(\"-\"*100)\n",
    "print(f\"Customer address {v}\")\n",
    "print(\"-\"*100)\n",
    "print(f\"Total amount ₹{tot_bill}\")\n"
   ]
  },
  {
   "cell_type": "code",
   "execution_count": null,
   "id": "3fc165f9",
   "metadata": {},
   "outputs": [],
   "source": []
  },
  {
   "cell_type": "code",
   "execution_count": null,
   "id": "e6dcbeef",
   "metadata": {},
   "outputs": [],
   "source": []
  },
  {
   "cell_type": "code",
   "execution_count": null,
   "id": "0b02a6cc",
   "metadata": {},
   "outputs": [],
   "source": []
  },
  {
   "cell_type": "code",
   "execution_count": null,
   "id": "128c54f1",
   "metadata": {},
   "outputs": [],
   "source": []
  },
  {
   "cell_type": "code",
   "execution_count": null,
   "id": "67a3ee96",
   "metadata": {},
   "outputs": [],
   "source": []
  }
 ],
 "metadata": {
  "kernelspec": {
   "display_name": "Python 3 (ipykernel)",
   "language": "python",
   "name": "python3"
  },
  "language_info": {
   "codemirror_mode": {
    "name": "ipython",
    "version": 3
   },
   "file_extension": ".py",
   "mimetype": "text/x-python",
   "name": "python",
   "nbconvert_exporter": "python",
   "pygments_lexer": "ipython3",
   "version": "3.9.12"
  }
 },
 "nbformat": 4,
 "nbformat_minor": 5
}
